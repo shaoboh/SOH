{
 "cells": [
  {
   "cell_type": "markdown",
   "metadata": {},
   "source": [
    "以洗衣机洗衣粉投放量控制为例，令污渍stain和油渍oil为输入变量，洗衣粉powder为输出。假定输入和输出范围均为1~10。步骤如下："
   ]
  },
  {
   "cell_type": "markdown",
   "metadata": {},
   "source": [
    "## 引用相关模块并设置各个变量范围："
   ]
  },
  {
   "cell_type": "code",
   "execution_count": null,
   "metadata": {},
   "outputs": [],
   "source": [
    "import numpy as np\n",
    "\n",
    "#创建n行m列的矩阵\n",
    "def nRowmLine(n,m):\n",
    "    matrix = [None] * n\n",
    "    for i in range(len(matrix)):\n",
    "        matrix[i] = [0] * m\n",
    "    matrix = np.array(matrix)\n",
    "    return matrix"
   ]
  },
  {
   "cell_type": "code",
   "execution_count": 7,
   "metadata": {},
   "outputs": [
    {
     "data": {
      "text/plain": [
       "array([[0, 0, 0, 0],\n",
       "       [0, 0, 0, 0],\n",
       "       [0, 0, 0, 0],\n",
       "       [0, 0, 0, 0],\n",
       "       [0, 0, 0, 0]])"
      ]
     },
     "execution_count": 7,
     "metadata": {},
     "output_type": "execute_result"
    }
   ],
   "source": [
    "nRowmLine(5,4)"
   ]
  },
  {
   "cell_type": "code",
   "execution_count": 8,
   "metadata": {},
   "outputs": [],
   "source": [
    "import numpy as np\n",
    "import skfuzzy as fuzz\n",
    "import skfuzzy.control as ctrl\n",
    "\n",
    "x_stain_range=np.arange(1,11,1,np.float32)\n",
    "x_oil_range=np.arange(1,11,1,np.float32)\n",
    "y_powder_range=np.arange(1,11,1,np.float32)"
   ]
  },
  {
   "cell_type": "markdown",
   "metadata": {},
   "source": [
    "## 定义输入输出模糊集和其隶属度函数（使用三角函数），同时定义输出解模糊规则。模糊集如下：\n",
    "\n",
    "污渍（小）=N，污渍（中）=M，污渍（大）=P\n",
    "\n",
    "油渍（小）=N，油渍（中）=M，油渍（大）=P\n",
    "\n",
    "洗衣粉（小）=N，洗衣粉（中）=M，洗衣粉（大）=P"
   ]
  },
  {
   "cell_type": "code",
   "execution_count": 9,
   "metadata": {},
   "outputs": [],
   "source": [
    "# 创建模糊控制变量\n",
    "\n",
    "x_stain=ctrl.Antecedent(x_stain_range, 'stain')\n",
    "\n",
    "x_oil=ctrl.Antecedent(x_oil_range, 'oil')\n",
    "\n",
    "y_powder=ctrl.Consequent(y_powder_range, 'powder')"
   ]
  },
  {
   "cell_type": "code",
   "execution_count": 10,
   "metadata": {},
   "outputs": [],
   "source": [
    "# 定义模糊集和其隶属度函数\n",
    "\n",
    "x_stain['N']=fuzz.trimf(x_stain_range,[1,1,5])\n",
    "\n",
    "x_stain['M']=fuzz.trimf(x_stain_range,[1,5,10])\n",
    "\n",
    "x_stain['P']=fuzz.trimf(x_stain_range,[5,10,10])\n",
    "\n",
    "x_oil['N']=fuzz.trimf(x_oil_range,[1,1,5])\n",
    "x_oil['M']=fuzz.trimf(x_oil_range,[1,5,10])\n",
    "x_oil['P']=fuzz.trimf(x_oil_range,[5,10,10])\n",
    "y_powder['N']=fuzz.trimf(y_powder_range,[1,1,5])\n",
    "y_powder['M']=fuzz.trimf(y_powder_range,[1,5,10])\n",
    "y_powder['P']=fuzz.trimf(y_powder_range,[5,10,10])"
   ]
  },
  {
   "cell_type": "code",
   "execution_count": 11,
   "metadata": {},
   "outputs": [],
   "source": [
    "# 设定输出powder的解模糊方法——质心解模糊方式\n",
    "\n",
    "y_powder.defuzzify_method='centroid'"
   ]
  },
  {
   "cell_type": "markdown",
   "metadata": {},
   "source": [
    "## 建立模糊控制规则，并初始化控制系统和运行环境。规则如下表所示"
   ]
  },
  {
   "attachments": {
    "image.png": {
     "image/png": "[encoded data removed]"
    }
   },
   "cell_type": "markdown",
   "metadata": {},
   "source": [
    "![image.png](attachment:image.png)"
   ]
  },
  {
   "cell_type": "code",
   "execution_count": 12,
   "metadata": {},
   "outputs": [],
   "source": [
    "# 输出为N的规则\n",
    "\n",
    "rule0 = ctrl.Rule(antecedent=((x_stain['N'] & x_oil['N']) |\n",
    "\n",
    "                              (x_stain['M'] & x_oil['N']) ),\n",
    "\n",
    "                  consequent=y_powder['N'], label='rule N')"
   ]
  },
  {
   "cell_type": "code",
   "execution_count": 13,
   "metadata": {},
   "outputs": [],
   "source": [
    "# 输出为M的规则\n",
    "\n",
    "rule1 = ctrl.Rule(antecedent=((x_stain['P'] & x_oil['N']) |\n",
    "\n",
    "                              (x_stain['N'] & x_oil['M']) |\n",
    "\n",
    "                              (x_stain['M'] & x_oil['M']) |\n",
    "\n",
    "                              (x_stain['P'] & x_oil['M']) |\n",
    "\n",
    "                              (x_stain['N'] & x_oil['P']) ),\n",
    "\n",
    "                  consequent=y_powder['M'], label='rule M')"
   ]
  },
  {
   "cell_type": "code",
   "execution_count": 14,
   "metadata": {},
   "outputs": [],
   "source": [
    "# 输出为P的规则\n",
    "\n",
    "rule2 = ctrl.Rule(antecedent=((x_stain['M'] & x_oil['P']) |\n",
    "\n",
    "                              (x_stain['P'] & x_oil['P']) ),\n",
    "\n",
    "                  consequent=y_powder['P'], label='rule P')"
   ]
  },
  {
   "cell_type": "code",
   "execution_count": 15,
   "metadata": {},
   "outputs": [],
   "source": [
    "# 环境初始化\n",
    "\n",
    "system = ctrl.ControlSystem(rules=[rule0, rule1, rule2])\n",
    "\n",
    "sim = ctrl.ControlSystemSimulation(system)"
   ]
  },
  {
   "cell_type": "markdown",
   "metadata": {},
   "source": [
    "## 系统建立完成后，通过输入变量值来查看系统的输出\n",
    "\n",
    "令输入污渍为4，油渍为7"
   ]
  },
  {
   "cell_type": "code",
   "execution_count": 18,
   "metadata": {},
   "outputs": [
    {
     "name": "stdout",
     "output_type": "stream",
     "text": [
      "5.442232292741621\n"
     ]
    }
   ],
   "source": [
    "sim.input['stain'] = 5\n",
    "\n",
    "sim.input['oil'] = 6\n",
    "\n",
    "sim.compute()   # 运行系统\n",
    "\n",
    "output_powder = sim.output['powder']\n",
    "\n",
    " \n",
    "\n",
    "# 打印输出结果\n",
    "\n",
    "print(output_powder)"
   ]
  },
  {
   "cell_type": "code",
   "execution_count": null,
   "metadata": {},
   "outputs": [],
   "source": []
  }
 ],
 "metadata": {
  "kernelspec": {
   "display_name": "Python 3",
   "language": "python",
   "name": "python3"
  },
  "language_info": {
   "codemirror_mode": {
    "name": "ipython",
    "version": 3
   },
   "file_extension": ".py",
   "mimetype": "text/x-python",
   "name": "python",
   "nbconvert_exporter": "python",
   "pygments_lexer": "ipython3",
   "version": "3.6.5"
  }
 },
 "nbformat": 4,
 "nbformat_minor": 4
}
